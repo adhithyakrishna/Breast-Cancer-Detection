{
 "cells": [
  {
   "cell_type": "code",
   "execution_count": 1,
   "metadata": {},
   "outputs": [],
   "source": [
    "import numpy as np\n",
    "import pandas as pd\n",
    "import csv as csv\n",
    "import matplotlib.pyplot as plt\n",
    "import sklearn as skl\n",
    "from sklearn.model_selection import train_test_split\n",
    "from sklearn.metrics import confusion_matrix"
   ]
  },
  {
   "cell_type": "markdown",
   "metadata": {},
   "source": [
    "##### Importing the data"
   ]
  },
  {
   "cell_type": "code",
   "execution_count": 2,
   "metadata": {},
   "outputs": [],
   "source": [
    "x=pd.read_csv('wdbc_dataset.csv',delimiter=',',\n",
    "            names=[\"id\", \"diagnosis\", \"radius_mean\", \"texture_mean\", \"perimeter_mean\", \"area_mean\", \"smoothness_mean\", \"compactness_mean\", \"concavity_mean\", \"concave,points_mean\", \"symmetry_mean\", \"fractal_dimension_mean\", \"radius_se\", \"texture_se\", \"perimeter_se\", \"area_se\", \"smoothness_se\", \"compactness_se\", \"concavity_se\", \"concave_points_se\", \"symmetry_se\", \"fractal_dimension_se\", \"radius_worst\", \"texture_worst\", \"perimeter_worst\", \"area_worst\", \"smoothness_worst\", \"compactness_worst\", \"concavity_worst\", \"concave_points_worst\", \"symmetry_worst\", \"fractal_dimension_worst\"])"
   ]
  },
  {
   "cell_type": "markdown",
   "metadata": {},
   "source": [
    "##### Data processing"
   ]
  },
  {
   "cell_type": "code",
   "execution_count": 3,
   "metadata": {},
   "outputs": [],
   "source": [
    "x['diagnosis']=x['diagnosis'].map({'M':1,'B':0})\n",
    "\n",
    "#drop id column\n",
    "x=x.drop(columns=['id'])\n",
    "\n",
    "#diagnosis values is assigned to x\n",
    "y=x['diagnosis'].values\n",
    "x = x.drop(['diagnosis'], axis = 1) "
   ]
  },
  {
   "cell_type": "markdown",
   "metadata": {},
   "source": [
    "##### Min-Max normalisation on the processed data"
   ]
  },
  {
   "cell_type": "code",
   "execution_count": 4,
   "metadata": {},
   "outputs": [],
   "source": [
    "def normaliseData(data):\n",
    "    max_minus_min = (np.max(data) - np.min(data))\n",
    "    data_minus_min = data - np.min(data)\n",
    "    return (data_minus_min)/(max_minus_min).values\n",
    "\n",
    "x = normaliseData(x)"
   ]
  },
  {
   "cell_type": "markdown",
   "metadata": {},
   "source": [
    "##### Splitting data into three parts training, testing and validation"
   ]
  },
  {
   "cell_type": "code",
   "execution_count": 28,
   "metadata": {},
   "outputs": [],
   "source": [
    "x_train, x_test, y_train, y_test = train_test_split( \n",
    "    x, y, test_size = 0.2, random_state = 54)\n",
    "\n",
    "\n",
    "x_test, x_valid, y_test, y_valid = train_test_split( \n",
    "    x_test, y_test, test_size = 0.5, random_state = 54)"
   ]
  },
  {
   "cell_type": "markdown",
   "metadata": {},
   "source": [
    "##### Transpose matrix of the input feature"
   ]
  },
  {
   "cell_type": "code",
   "execution_count": 29,
   "metadata": {},
   "outputs": [
    {
     "name": "stdout",
     "output_type": "stream",
     "text": [
      "(455, 30)\n",
      "(57, 30)\n",
      "(57, 30)\n"
     ]
    }
   ],
   "source": [
    "print(x_train.shape) # 455 X 31\n",
    "x_train = x_train.T # 31 X 455 \n",
    "y_train = np.asarray(y_train).T # 455, 1\n",
    "\n",
    "\n",
    "print(x_valid.shape) # 57 X 31\n",
    "x_valid = x_valid.T  # 31 X 57\n",
    "y_valid = y_valid.T # 57 X 1\n",
    "\n",
    "print(x_test.shape) # 57 X 31\n",
    "x_test = x_test.T  # 31 X 57\n",
    "y_test = y_test.T # 57 X 1\n"
   ]
  },
  {
   "cell_type": "markdown",
   "metadata": {},
   "source": [
    "###### Sigmoid function"
   ]
  },
  {
   "cell_type": "code",
   "execution_count": 23,
   "metadata": {},
   "outputs": [],
   "source": [
    "def sigmoid(z): \n",
    "    a = 1/(1 + np.exp(-z)) \n",
    "    return a "
   ]
  },
  {
   "cell_type": "markdown",
   "metadata": {},
   "source": [
    "###### Prediction algorithm"
   ]
  },
  {
   "cell_type": "code",
   "execution_count": 24,
   "metadata": {},
   "outputs": [],
   "source": [
    "def predict(w, b, x_test): \n",
    "    z = sigmoid(np.dot(w.T, x_test)+b) \n",
    "    Y_prediction = np.zeros((1, x_test.shape[1])) \n",
    "     \n",
    "    for i in range(z.shape[1]): \n",
    "\n",
    "        if z[0, i]<= 0.5: \n",
    "            Y_prediction[0, i] = 0\n",
    "        else: \n",
    "            Y_prediction[0, i] = 1\n",
    "  \n",
    "    return Y_prediction"
   ]
  },
  {
   "cell_type": "markdown",
   "metadata": {},
   "source": [
    "##### Precision recall and fmeasure calculation"
   ]
  },
  {
   "cell_type": "code",
   "execution_count": 25,
   "metadata": {},
   "outputs": [],
   "source": [
    "def preciscion_recall_fmeasure(Yactual, Ypredicted):\n",
    "        #print(Yactual.argmax(axis=1))\n",
    "        #print(Ypredicted.argmax(axis=1))\n",
    "        conf_matrix = confusion_matrix(Yactual.argmax(axis=1), Ypredicted.argmax(axis=1))\n",
    "        precision = conf_matrix[0][0]/(conf_matrix[0][0] + conf_matrix[1][0])\n",
    "        recall = conf_matrix[0][0]/(conf_matrix[0][0] + conf_matrix[0][1])\n",
    "        fmeasure = (2*recall*precision)/(recall+precision)\n",
    "        return precision, recall, fmeasure"
   ]
  },
  {
   "cell_type": "markdown",
   "metadata": {},
   "source": [
    "##### Logistic regression function"
   ]
  },
  {
   "cell_type": "code",
   "execution_count": 30,
   "metadata": {},
   "outputs": [],
   "source": [
    "def logistic_regression(x_train, y_train, x_test, y_test,  \n",
    "                        learning_rate,  epochs): \n",
    "  \n",
    "    dimension = x_train.shape[0] \n",
    "    \n",
    "    #initialisation of gradients\n",
    "    w = np.random.randn(dimension, 1)*0.01 \n",
    "    b = 0.0\n",
    "    \n",
    "    #hyperParameters = [] -> # for adding the hyper parameters and accuracy information to an excel sheet\n",
    "    cost_list = [] \n",
    "    cost_valid_list = []\n",
    "    index = [] \n",
    "    training_accuracy = []\n",
    "    valid_accuracy = []\n",
    "  \n",
    "    for i in range(epochs): \n",
    "    \n",
    "        z = np.dot(w.T, x_train) + b \n",
    "        a = sigmoid(z)\n",
    "        \n",
    "        cost = -np.sum(np.multiply(np.log(a), y_train) + np.multiply((1 - y_train), np.log(1 - a)))/x_train.shape[1]\n",
    "        \n",
    "        #backward propogation starts here\n",
    "        \n",
    "        dz = (a - y_train)\n",
    "        dw = (np.dot(x_train, (dz.T))) / x_train.shape[1]  \n",
    "        db =  np.mean(dz)\n",
    "        \n",
    "        training_accuracy.append(100 - np.mean(np.abs(predict(w, b, x_train) - y_train)))\n",
    "        \n",
    "        z1 = np.dot(w.T, x_valid) + b \n",
    "        a1 = sigmoid(z1)\n",
    "        cost_valid = -np.sum(np.multiply(np.log(a1), y_valid) + np.multiply((1 - y_valid), np.log(1 - a1))) / x_valid.shape[1] \n",
    "  \n",
    "        valid_accuracy.append(100 - np.mean(np.abs(predict(w, b, x_valid) - y_valid)))\n",
    "    \n",
    "        cost_list.append(cost)\n",
    "        cost_valid_list.append(cost_valid)\n",
    "        \n",
    "        # updating the weight and bias after the iteration \n",
    "        w = w - learning_rate * dw \n",
    "        b = b - learning_rate * db \n",
    "  \n",
    "    parameters = {\"weight\": w, \"bias\": b} \n",
    "    plt.plot(cost_list)\n",
    "    plt.plot(cost_valid_list)\n",
    "    plt.gca().legend(('Training Cost','Validation Cost'))\n",
    "    plt.xticks(index, rotation =20) \n",
    "    plt.title(\"Cost vs Epochs\")\n",
    "    plt.xlabel(\"Epochs\") \n",
    "    plt.ylabel(\"Cost\") \n",
    "    plt.show() \n",
    "    \n",
    "    \n",
    "    plt.plot(training_accuracy)\n",
    "    plt.plot(valid_accuracy)\n",
    "    plt.gca().legend(('Training Accuracy','Validation Accuracy'))\n",
    "    plt.xticks(index, rotation =20) \n",
    "    plt.title(\"Accuracy vs Epochs\")\n",
    "    plt.xlabel(\"Epochs\") \n",
    "    plt.ylabel(\"Accuracy\") \n",
    "    plt.show() \n",
    "    \n",
    "    #update function ends here\n",
    "    \n",
    "    y_prediction_valid = predict(w, b, x_valid) \n",
    "    y_prediction_train = predict(w, b, x_train) \n",
    "    y_prediction_test = predict(w, b, x_test) \n",
    "    \n",
    "    # train / test Errors\n",
    "    train_accuracy = (100 - np.mean(np.abs(y_prediction_train - y_train)) * 100)\n",
    "    validation_accuracy = (100 - np.mean(np.abs(y_prediction_valid - y_valid)) * 100)\n",
    "    test_accuracy = (100 - np.mean(np.abs(y_prediction_test - y_test)) * 100)\n",
    "    print(\"train accuracy: {} %\".format(train_accuracy)) \n",
    "    print(\"validation accuracy: {} %\".format(validation_accuracy))\n",
    "    print(\"test accuracy: {} %\".format(test_accuracy) )\n",
    "    num_classes = 2\n",
    "\n",
    "    #precision and recall calculation for training dataset\n",
    "    prediction_matrix_train = np.asmatrix(y_prediction_train.astype(int))\n",
    "    res_prediction_train = np.zeros((prediction_matrix_train.size, num_classes), dtype=int)\n",
    "    res_prediction_train[np.arange(prediction_matrix_train.size), prediction_matrix_train] = 1\n",
    "    \n",
    "    print('\\n')\n",
    "    actual_train_result = np.zeros((y_train.size, num_classes), dtype=int)\n",
    "    actual_train_result[np.arange(y_train.size), y_train] = 1\n",
    "\n",
    "    training_precision, training_recall, training_fmeasure = preciscion_recall_fmeasure(actual_train_result, res_prediction_train)\n",
    "    \n",
    "    print(\"Precision for Training dataset: {} %\".format(training_precision*100))\n",
    "    print(\"Recall for training dataset: {} %\".format(training_recall*100))\n",
    "    print(\"fmeasure for training dataset: {} %\".format(training_fmeasure*100))\n",
    "    \n",
    "    \n",
    "    #precision and recall calculation for validation dataset\n",
    "    prediction_matrix_valid = np.asmatrix(y_prediction_valid.astype(int))\n",
    "    res_prediction_valid = np.zeros((prediction_matrix_valid.size, num_classes), dtype=int)\n",
    "    res_prediction_valid[np.arange(prediction_matrix_valid.size), prediction_matrix_valid] = 1\n",
    "    \n",
    "    print('\\n')\n",
    "    actual_valid_result = np.zeros((y_valid.size, num_classes), dtype=int)\n",
    "    actual_valid_result[np.arange(y_valid.size), y_valid] = 1\n",
    "\n",
    "    validation_precision, validation_recall, validation_fmeasure = preciscion_recall_fmeasure(actual_valid_result, res_prediction_valid)\n",
    "    \n",
    "    print(\"Precision for Validation dataset: {} %\".format(validation_precision*100))\n",
    "    print(\"Recall for Validation dataset: {} %\".format(validation_recall*100))\n",
    "    print(\"fmeasure for Validation dataset: {} %\".format(validation_fmeasure*100))\n",
    "    \n",
    "    \n",
    "    #precision and recall calculation for testing dataset\n",
    "    actual_test_result = np.zeros((y_test.size, num_classes), dtype=int)\n",
    "    actual_test_result[np.arange(y_test.size), y_test] = 1\n",
    "    \n",
    "    prediction_matrix_test = np.asmatrix(y_prediction_test.astype(int))\n",
    "    res_prediction_test = np.zeros((prediction_matrix_test.size, num_classes), dtype=int)\n",
    "    res_prediction_test[np.arange(prediction_matrix_test.size), prediction_matrix_test] = 1\n",
    "    \n",
    "    test_precision, test_recall, test_fmeasure = preciscion_recall_fmeasure(actual_test_result, res_prediction_test)\n",
    "    \n",
    "    print('\\n')\n",
    "    print(\"Precision for Testing dataset: {} %\".format(test_precision*100))\n",
    "    print(\"Recall for Testing dataset: {} %\".format(test_recall*100))\n",
    "    print(\"fmeasure for Testing dataset: {} %\".format(test_fmeasure*100))\n",
    "    "
   ]
  },
  {
   "cell_type": "code",
   "execution_count": 31,
   "metadata": {},
   "outputs": [
    {
     "data": {
      "image/png": "[encoded data removed]",
      "text/plain": [
       "<Figure size 432x288 with 1 Axes>"
      ]
     },
     "metadata": {
      "needs_background": "light"
     },
     "output_type": "display_data"
    },
    {
     "data": {
      "image/png": "[encoded data removed]",
      "text/plain": [
       "<Figure size 432x288 with 1 Axes>"
      ]
     },
     "metadata": {
      "needs_background": "light"
     },
     "output_type": "display_data"
    },
    {
     "name": "stdout",
     "output_type": "stream",
     "text": [
      "train accuracy: 94.06593406593407 %\n",
      "validation accuracy: 98.24561403508773 %\n",
      "test accuracy: 100.0 %\n",
      "\n",
      "\n",
      "Precision for Training dataset: 92.61744966442953 %\n",
      "Recall for training dataset: 98.22064056939502 %\n",
      "fmeasure for training dataset: 95.33678756476684 %\n",
      "\n",
      "\n",
      "Precision for Validation dataset: 100.0 %\n",
      "Recall for Validation dataset: 97.2972972972973 %\n",
      "fmeasure for Validation dataset: 98.63013698630138 %\n",
      "\n",
      "\n",
      "Precision for Testing dataset: 100.0 %\n",
      "Recall for Testing dataset: 100.0 %\n",
      "fmeasure for Testing dataset: 100.0 %\n"
     ]
    }
   ],
   "source": [
    "logistic_regression(x_train, y_train, x_test, y_test, learning_rate = 0.01, epochs = 9800)"
   ]
  },
  {
   "cell_type": "code",
   "execution_count": null,
   "metadata": {},
   "outputs": [],
   "source": []
  }
 ],
 "metadata": {
  "kernelspec": {
   "display_name": "Python 3",
   "language": "python",
   "name": "python3"
  },
  "language_info": {
   "codemirror_mode": {
    "name": "ipython",
    "version": 3
   },
   "file_extension": ".py",
   "mimetype": "text/x-python",
   "name": "python",
   "nbconvert_exporter": "python",
   "pygments_lexer": "ipython3",
   "version": "3.7.3"
  }
 },
 "nbformat": 4,
 "nbformat_minor": 2
}
